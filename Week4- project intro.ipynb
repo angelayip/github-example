{
 "cells": [
  {
   "cell_type": "markdown",
   "metadata": {},
   "source": [
    "# The Battle of the Neighborhoods - Week 1"
   ]
  },
  {
   "cell_type": "markdown",
   "metadata": {},
   "source": [
    "### Introduction:\n"
   ]
  },
  {
   "cell_type": "markdown",
   "metadata": {},
   "source": [
    "The City of London, is most popular among tourist in the United Kingdom. It is diverse and is the financial capital of the UK. It is multicultural. It provides lot of business oppourtunities for providing accomodation for tourists. It has attracted many different players into the market, from big brand hotels to individuals.\n",
    "\n",
    "This also means that the market is highly competitive. Thus having good location, price and reviews are crucial for individual to have frequent renters to their properties."
   ]
  },
  {
   "cell_type": "markdown",
   "metadata": {},
   "source": [
    "### Problem Description:"
   ]
  },
  {
   "cell_type": "markdown",
   "metadata": {},
   "source": [
    "Airbnb is among one of the most popular platform for home owners to rent out their property in London. The platform displays \n",
    "* the property location\n",
    "* room type\n",
    "* price\n",
    "* length of minimum stay \n",
    "* number of reviews \n",
    "* number of property listed by host\n",
    "\n",
    "For an individual to consider buying a property for rental, there are various factors need to be studied inorder to decide on the Location such as : \n",
    "\n",
    "* Popularity in rental location \n",
    "* number of property in that neighbourhood \n",
    "* price of rental \n",
    "* popularity of property type etc\n"
   ]
  },
  {
   "cell_type": "markdown",
   "metadata": {},
   "source": [
    "### Target Audience:"
   ]
  },
  {
   "cell_type": "markdown",
   "metadata": {},
   "source": [
    "\n",
    "To recommend the correct location for individuals who would like to invest in London property,this paper is aimed to locate and recommend which neighborhood of London will be best choice to rent out on Airbnb platform. \n",
    "\n"
   ]
  },
  {
   "cell_type": "markdown",
   "metadata": {},
   "source": [
    "### Success Criteria:\n"
   ]
  },
  {
   "cell_type": "markdown",
   "metadata": {},
   "source": [
    "The success criteria of the project will be a good recommendation of borough/Neighborhood choice for investment"
   ]
  },
  {
   "cell_type": "code",
   "execution_count": null,
   "metadata": {},
   "outputs": [],
   "source": []
  },
  {
   "cell_type": "code",
   "execution_count": null,
   "metadata": {},
   "outputs": [],
   "source": []
  }
 ],
 "metadata": {
  "kernelspec": {
   "display_name": "Python 3",
   "language": "python",
   "name": "python3"
  },
  "language_info": {
   "codemirror_mode": {
    "name": "ipython",
    "version": 3
   },
   "file_extension": ".py",
   "mimetype": "text/x-python",
   "name": "python",
   "nbconvert_exporter": "python",
   "pygments_lexer": "ipython3",
   "version": "3.7.0"
  }
 },
 "nbformat": 4,
 "nbformat_minor": 2
}
