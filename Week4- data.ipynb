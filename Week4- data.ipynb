{
 "cells": [
  {
   "cell_type": "markdown",
   "metadata": {},
   "source": [
    "# The Battle of the Neighborhoods - Week 1¶"
   ]
  },
  {
   "cell_type": "markdown",
   "metadata": {},
   "source": [
    "### Data :\n",
    "One city will be analysed in this project : London\n",
    "\n",
    "We will be using the below datasets for analysing London Airbnb rental"
   ]
  },
  {
   "cell_type": "markdown",
   "metadata": {},
   "source": [
    "###### Data 1 : \n",
    "Airbnb summary information and metrics for listings in London is published and existed for free download on the web.\n",
    "http://insideairbnb.com/get-the-data.html\n"
   ]
  },
  {
   "cell_type": "markdown",
   "metadata": {},
   "source": [
    "\n",
    "###### Data 2 : \n",
    "GeoJSON file of neighbourhoods of London for properties in order to obtain exact location. \n",
    "http://insideairbnb.com/get-the-data.html"
   ]
  },
  {
   "cell_type": "markdown",
   "metadata": {},
   "source": [
    "###### Data 3 : \n",
    "The London Borough Profiles help paint a general picture of an area by presenting a range of headline indicator data in both spreadsheet and map form to help show statistics covering demographic, economic, social and environmental datasets for each borough, alongside relevant comparator areas. The London Borough Atlas does the same but provides further detailed breakdowns and time-series data for each borough. \n",
    "https://data.london.gov.uk/dataset/london-borough-profiles\n"
   ]
  },
  {
   "cell_type": "markdown",
   "metadata": {},
   "source": [
    "###### Data 4:\n",
    "\n",
    "Foursquare data will be called to add extra dimention to the analysis."
   ]
  },
  {
   "cell_type": "code",
   "execution_count": null,
   "metadata": {},
   "outputs": [],
   "source": []
  }
 ],
 "metadata": {
  "kernelspec": {
   "display_name": "Python 3",
   "language": "python",
   "name": "python3"
  },
  "language_info": {
   "codemirror_mode": {
    "name": "ipython",
    "version": 3
   },
   "file_extension": ".py",
   "mimetype": "text/x-python",
   "name": "python",
   "nbconvert_exporter": "python",
   "pygments_lexer": "ipython3",
   "version": "3.7.0"
  }
 },
 "nbformat": 4,
 "nbformat_minor": 2
}
